#!/usr/bin/env python
# coding: utf-8

# In[1]:


#1. who developed Python Programming Language?


# In[2]:


#ans.Guido van Rossum.


# In[3]:


#2. Which type of Programming does Python support?


# In[4]:


#ans. Object-oriented programming and structured programming.


# In[5]:


#3. Is python case sensitive when dealing with identifier?


# In[6]:


#ans. Yes ,Python is case sensitive when dealing with identifier.


# In[7]:


#4. What is the correct extension of the Python file?


# In[8]:


#ans. .ipynb


# In[9]:


#5.Is Python code compiled or interpreted?


# In[10]:


#ans. Iterpreted


# In[11]:


#6. Name is few blocks of code used to define in Python language?


# In[12]:


#ans. A module, A function body, and A class definition


# In[13]:


#7.State a character used to give single-line comments in python?


# In[14]:


#ans. single # character


# In[15]:


#8. Mention functions which can help us to find the version of python that we are currently working on?


# In[16]:


#ans. The function sys. version.


# In[17]:


#9. Python supports the creation of anonymous function at runtime,using a construct called


# In[18]:


#ans. Lambda


# In[19]:


# 10. What does pip stand for python?


# In[20]:


#ans. Pip is a package manager for Python that allows you to install additional libraries and packages


# In[22]:


#11. Mention a few build-in function in python?


# In[23]:


# ans. type() , tuple() , str() , set() , print() , list() , int().


# In[24]:


#12. What is the maximum possible lenght of a identifier in Python?


# In[25]:


#ans. 79 characters 


# In[27]:


#13. What are the benefits of using Python?


# In[28]:


# ans.1.User-friendly data structures
#     2.High-level language 
#     3.Object-Oriented and Procedural  Programming language
#     4.Interpreted Language


# In[29]:


#14. How is memory managed in Python?


# In[30]:


#ans. Python has a private heap that stores our program’s objects and data structures.


# In[31]:


#15. How to install Python on Windows and set path variables?


# In[32]:


#ans. Install python from this link https://www.python.org/downloads/
# Look for the location where PYTHON has been installed on your PC using tge following command on your command prompt: cmd python.


# In[33]:


#16. Is indentation required in python?


# In[ ]:


#ans. Indentation is necessary for Python. It specifies a block of code.

